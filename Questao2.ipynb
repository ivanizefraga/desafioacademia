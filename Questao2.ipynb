{
  "nbformat": 4,
  "nbformat_minor": 0,
  "metadata": {
    "colab": {
      "name": "Questao2.ipynb",
      "provenance": [],
      "collapsed_sections": [],
      "authorship_tag": "ABX9TyN5u1Zl6aeS+9+NU7Msds6h",
      "include_colab_link": true
    },
    "kernelspec": {
      "name": "python3",
      "display_name": "Python 3"
    },
    "language_info": {
      "name": "python"
    }
  },
  "cells": [
    {
      "cell_type": "markdown",
      "metadata": {
        "id": "view-in-github",
        "colab_type": "text"
      },
      "source": [
        "<a href=\"https://colab.research.google.com/github/ivanizefraga/desafioacademia/blob/main/Questao2.ipynb\" target=\"_parent\"><img src=\"https://colab.research.google.com/assets/colab-badge.svg\" alt=\"Open In Colab\"/></a>"
      ]
    },
    {
      "cell_type": "code",
      "execution_count": 6,
      "metadata": {
        "colab": {
          "base_uri": "https://localhost:8080/"
        },
        "id": "bit6lUMm39m9",
        "outputId": "fc6bfa1f-0cb3-44ee-c5ca-708599165177"
      },
      "outputs": [
        {
          "output_type": "stream",
          "name": "stdout",
          "text": [
            "Digite a senha: acad\n",
            "Esta senha possui apenas 4 caracteres. É necessário ter, no mínimo, 6 caracteres.\n",
            "Esta senha precisa de, no mínimo, 1 caractere maiúsculo.\n",
            "Esta senha precisa de, no mínimo, 1 dígito.\n",
            "Esta senha precisa de, no mínimo, 1 caractere especial: !@#$%ˆ&*()-+\n",
            "Senha inválida. Por favor, tente novamente.\n",
            "Digite a senha: Academia\n",
            "Esta senha precisa de, no mínimo, 1 dígito.\n",
            "Esta senha precisa de, no mínimo, 1 caractere especial: !@#$%ˆ&*()-+\n",
            "Senha inválida. Por favor, tente novamente.\n",
            "Digite a senha: Academia2022\n",
            "Esta senha precisa de, no mínimo, 1 caractere especial: !@#$%ˆ&*()-+\n",
            "Senha inválida. Por favor, tente novamente.\n",
            "Digite a senha: Academia@2022\n",
            "Senha válida. Parabéns!\n"
          ]
        }
      ],
      "source": [
        "def SenhaValida(senha):\n",
        "\n",
        "    caracteres_especiais = \"!@#$%ˆ&*()-+\"\n",
        "    minusculo, maiusculo, especial, digito = 0, 0, 0, 0\n",
        "    tamanho_minimo_senha = 6\n",
        "\n",
        "    # A senha informada está correta, até que se prove o contrário\n",
        "    resultado_valido = True\n",
        "    \n",
        "    # Verifica se a senha possui o tamanho correto\n",
        "    if (len(senha) < tamanho_minimo_senha):\n",
        "        print(\"Esta senha possui apenas\",len(senha),\"caracteres. É necessário ter, no mínimo,\",tamanho_minimo_senha,\"caracteres.\")\n",
        "        resultado_valido = False\n",
        "        \n",
        "    # Verifica cada caractere da senha\n",
        "    for caractere in senha:\n",
        "\n",
        "        # Verifica se o caractere é maiúsculo  \n",
        "        if(caractere.isupper()):\n",
        "            maiusculo += 1\n",
        "\n",
        "        # Verifica se o caractere é minúsculo\n",
        "        if(caractere.islower()):\n",
        "            minusculo += 1\n",
        "\n",
        "        # Verifica se o caractere é um dígito (número)\n",
        "        if(caractere.isdigit()):\n",
        "            digito += 1\n",
        "\n",
        "        # Verifica se o caractere faz parte do conjunto de caracteres especiais\n",
        "        if(caractere in caracteres_especiais):        \n",
        "            especial += 1\n",
        "\n",
        "    # Verifica se não foi encontrado nenhum caractere em caixa alta (maiúsculo)\n",
        "    if(maiusculo == 0):\n",
        "        print(\"Esta senha precisa de, no mínimo, 1 caractere maiúsculo.\")\n",
        "        resultado_valido = False\n",
        "\n",
        "    # Verifica se não foi encontrado nenhum caractere em caixa baixa (minúsculo)        \n",
        "    if(minusculo == 0):\n",
        "        print(\"Esta senha precisa de, no mínimo, 1 caractere minúsculo.\")\n",
        "        resultado_valido = False\n",
        "\n",
        "    # Verifica se não foi encontrado nenhum caractere que seja um dígito (número)        \n",
        "    if(digito == 0):\n",
        "        print(\"Esta senha precisa de, no mínimo, 1 dígito.\")\n",
        "        resultado_valido = False\n",
        "        \n",
        "    # Verifica se não foi encontrado nenhum caractere especial\n",
        "    if(especial == 0):\n",
        "        print(\"Esta senha precisa de, no mínimo, 1 caractere especial:\",caracteres_especiais)\n",
        "        resultado_valido = False        \n",
        "\n",
        "    # Retorna se a senha atendeu as condições necessárias (verdadeiro ou falso)\n",
        "    return resultado_valido \n",
        "\n",
        "\n",
        "# Programa Principal\n",
        "\n",
        "while True:\n",
        "\n",
        "    senha = input(\"Digite a senha: \")\n",
        "\n",
        "    # Testa se a senha digitada atende aos requisitos de uma senha válida\n",
        "    if SenhaValida(senha):\n",
        "        print(\"Senha válida. Parabéns!\")\n",
        "        break\n",
        "    else:\n",
        "        print(\"Senha inválida. Por favor, tente novamente.\")\n",
        "\n"
      ]
    }
  ]
}