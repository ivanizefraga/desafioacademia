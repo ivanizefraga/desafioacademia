{
  "nbformat": 4,
  "nbformat_minor": 0,
  "metadata": {
    "colab": {
      "name": "Questao1.ipynb",
      "provenance": [],
      "collapsed_sections": [],
      "authorship_tag": "ABX9TyP2uOAa2oyQvBAcI2ss8ev8",
      "include_colab_link": true
    },
    "kernelspec": {
      "name": "python3",
      "display_name": "Python 3"
    },
    "language_info": {
      "name": "python"
    }
  },
  "cells": [
    {
      "cell_type": "markdown",
      "metadata": {
        "id": "view-in-github",
        "colab_type": "text"
      },
      "source": [
        "<a href=\"https://colab.research.google.com/github/ivanizefraga/desafioacademia/blob/main/Questao1.ipynb\" target=\"_parent\"><img src=\"https://colab.research.google.com/assets/colab-badge.svg\" alt=\"Open In Colab\"/></a>"
      ]
    },
    {
      "cell_type": "code",
      "execution_count": 5,
      "metadata": {
        "colab": {
          "base_uri": "https://localhost:8080/"
        },
        "id": "nr8mm3Mg5XDO",
        "outputId": "858658ad-310c-4968-cc8f-0e5f120f0b11"
      },
      "outputs": [
        {
          "output_type": "stream",
          "name": "stdout",
          "text": [
            "Digite o tamanho da escada (0 para finalizar): 1\n",
            "\n",
            "*\n",
            "Digite o tamanho da escada (0 para finalizar): 2\n",
            "\n",
            " *\n",
            "**\n",
            "Digite o tamanho da escada (0 para finalizar): 3\n",
            "\n",
            "  *\n",
            " **\n",
            "***\n",
            "Digite o tamanho da escada (0 para finalizar): 4\n",
            "\n",
            "   *\n",
            "  **\n",
            " ***\n",
            "****\n",
            "Digite o tamanho da escada (0 para finalizar): 5\n",
            "\n",
            "    *\n",
            "   **\n",
            "  ***\n",
            " ****\n",
            "*****\n",
            "Digite o tamanho da escada (0 para finalizar): 6\n",
            "\n",
            "     *\n",
            "    **\n",
            "   ***\n",
            "  ****\n",
            " *****\n",
            "******\n",
            "Digite o tamanho da escada (0 para finalizar): 0\n",
            "Fim do programa.\n"
          ]
        }
      ],
      "source": [
        "def escada(degraus):\n",
        "\n",
        "    # Espaçamento de linha\n",
        "    print()\n",
        "\n",
        "    # Laço para gerar cada degrau (linha) da escada\n",
        "    for i in range(0, degraus):\n",
        "        # Imprime um degrau com (degraus-i-1) espaços e (i+1) asteriscos\n",
        "        print(' '*(degraus-i-1) + '*'*(i+1))\n",
        "\n",
        "\n",
        "# Programa Principal\n",
        "\n",
        "while True:\n",
        "\n",
        "    tamanho = int(input(\"Digite o tamanho da escada (0 para finalizar): \"))\n",
        "\n",
        "    if(tamanho == 0):\n",
        "        print(\"Fim do programa.\")\n",
        "        break\n",
        "    else:\n",
        "        escada(tamanho)    \n"
      ]
    }
  ]
}