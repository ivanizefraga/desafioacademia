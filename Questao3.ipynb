{
  "nbformat": 4,
  "nbformat_minor": 0,
  "metadata": {
    "colab": {
      "name": "Questao3.ipynb",
      "provenance": [],
      "authorship_tag": "ABX9TyMKr+ePWBghLYfd/NUAhlll",
      "include_colab_link": true
    },
    "kernelspec": {
      "name": "python3",
      "display_name": "Python 3"
    },
    "language_info": {
      "name": "python"
    }
  },
  "cells": [
    {
      "cell_type": "markdown",
      "metadata": {
        "id": "view-in-github",
        "colab_type": "text"
      },
      "source": [
        "<a href=\"https://colab.research.google.com/github/ivanizefraga/desafioacademia/blob/main/Questao3.ipynb\" target=\"_parent\"><img src=\"https://colab.research.google.com/assets/colab-badge.svg\" alt=\"Open In Colab\"/></a>"
      ]
    },
    {
      "cell_type": "code",
      "execution_count": 10,
      "metadata": {
        "colab": {
          "base_uri": "https://localhost:8080/"
        },
        "id": "WX5uWHuw36wy",
        "outputId": "1d0f5a56-5e91-4b26-eee2-b31b8c75246e"
      },
      "outputs": [
        {
          "output_type": "stream",
          "name": "stdout",
          "text": [
            "Digite uma palavra (Vazio para sair): xyyx\n",
            "Total de substrings que são anagramas: 4\n",
            "\n",
            "Digite uma palavra (Vazio para sair): arara\n",
            "Total de substrings que são anagramas: 12\n",
            "\n",
            "Digite uma palavra (Vazio para sair): roma\n",
            "Total de substrings que são anagramas: 0\n",
            "\n",
            "Digite uma palavra (Vazio para sair): ifailukqq\n",
            "Total de substrings que são anagramas: 3\n",
            "\n",
            "Digite uma palavra (Vazio para sair): \n",
            "Fim do programa.\n"
          ]
        }
      ],
      "source": [
        "def TotalParesStringsAnagramas(palavra):\n",
        "\n",
        "    # Dicionário que deverá armazenar as chaves de substrings\n",
        "    # consideradas no cálculo de total de anagramas válidos\n",
        "    assinaturas = {} \n",
        "\n",
        "    # Criando uma lista de 26 posições, todas com valor inicial zero,\n",
        "    # para contagem das letras, considerando apenas o subconjunto de\n",
        "    # letras minúsculas que estão no intervalo de 'a' até 'z'\n",
        "    assinatura = [0]*26 \n",
        "    \n",
        "    # loop que define qual será o caractere inicial\n",
        "    # da substring a ser analisada\n",
        "    for inicio in range(len(palavra)): \n",
        "        \n",
        "        # Loop que percorre todas as substrings\n",
        "        # que começam a partir do caractere inicial,\n",
        "        # definido na variável 'final'\n",
        "        for final in range(inicio, len(palavra)): \n",
        "\n",
        "            # a cada nova contagem de frequência,\n",
        "            # inicializa a lista assinatura \n",
        "            assinatura = [0]*26 \n",
        "\n",
        "            # Faz uma contagem de frequências da cada letra presente\n",
        "            # na palavra e armazena na posição relativa da\n",
        "            # lista assinatura\n",
        "            for letra in palavra[inicio:final+1]: \n",
        "                assinatura[ord(letra)-ord('a')] += 1 \n",
        "\n",
        "            # Converte a lista assinatura em uma estrutura de tupla \n",
        "            assinatura = tuple(assinatura) \n",
        "\n",
        "            # Adiciona nova chave no dicionário 'assinaturas'\n",
        "            # com a quantidade obtida na contagem de frequência\n",
        "            # da substring\n",
        "            assinaturas[assinatura] = assinaturas.get(assinatura,0) + 1 \n",
        "    \n",
        "    \n",
        "    # Calculando o número de pares de substrings que são anagramas\n",
        "    # considerando que se houver X substrings de 'palavra' com assinatura\n",
        "    # 'assinaturas', então podemos formar X(X-1)/2 pares de substrings\n",
        "    # com estas 'assinaturas'\n",
        "    \n",
        "    res = 0 \n",
        "    for count in assinaturas.values(): \n",
        "        res += count*(count-1)/2 \n",
        "        \n",
        "    # Retornando o resultado do algoritmo    \n",
        "    return (int(res)) \n",
        "\n",
        "\n",
        "# Programa Principal\n",
        "\n",
        "while True:\n",
        "\n",
        "    palavra = input(\"Digite uma palavra (Vazio para sair): \")\n",
        "\n",
        "    # Testa se foi informada uma palavra ou deseja finalizar o programa.\n",
        "    if len(palavra) > 0:\n",
        "        print(\"Total de substrings que são anagramas:\",TotalParesStringsAnagramas(palavra))\n",
        "        print()       \n",
        "    else:\n",
        "        print(\"Fim do programa.\")\n",
        "        break\n"
      ]
    }
  ]
}